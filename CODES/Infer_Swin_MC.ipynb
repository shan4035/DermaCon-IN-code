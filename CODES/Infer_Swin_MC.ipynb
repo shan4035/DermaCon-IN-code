{
 "cells": [
  {
   "cell_type": "markdown",
   "id": "85c4716e",
   "metadata": {},
   "source": [
    "# DermaCon-IN: Swin Transformer Model Inferencing"
   ]
  },
  {
   "cell_type": "markdown",
   "id": "ea170200",
   "metadata": {},
   "source": [
    "This code is for infering the best model, Swin Transformer for Main_class prediction which has the below performance on validation data:\n",
    "\n",
    "- ✅ Val Accuracy: 0.7088\n",
    "- ✅ Precision: 0.7026\n",
    "- ✅ Recall: 0.7088\n",
    "- ✅ F1 Score: 0.7022\n",
    "- ✅ Macro AUC: 0.7864\n",
    "- Class 0 (Infectious Disorders): AUC = 0.8482\n",
    "- Class 1 (Inflammatory Disorders): AUC = 0.8274\n",
    "- Class 2 (Keratanisation Disorders): AUC = 0.6627\n",
    "- Class 3 (Neoplasms and tumors): AUC = 0.8705\n",
    "- Class 4 (No Definite Diagnosis): AUC = 0.5775\n",
    "- Class 5 (Other skin disorders): AUC = 0.6357\n",
    "- Class 6 (Pigmentary Disorders): AUC = 0.9110\n",
    "- Class 7 (Skin Appendages Disorders): AUC = 0.9580\n",
    "\n",
    "🎯 Per-Class Accuracy:\n",
    "- Class 0 (Infectious Disorders): Accuracy = 0.7751\n",
    "- Class 1 (Inflammatory Disorders): Accuracy = 0.6851\n",
    "- Class 2 (Keratanisation Disorders): Accuracy = 0.1429\n",
    "- Class 3 (Neoplasms and tumors): Accuracy = 0.1667\n",
    "- Class 4 (No Definite Diagnosis): Accuracy = 0.0000\n",
    "- Class 5 (Other skin disorders): Accuracy = 0.1429\n",
    "- Class 6 (Pigmentary Disorders): Accuracy = 0.7317\n",
    "- Class 7 (Skin Appendages Disorders): Accuracy = 0.8119\n",
    "\n",
    "The below code loads the best checkpoint with an accuracy of . Then, infers this model on a sample image."
   ]
  },
  {
   "cell_type": "code",
   "execution_count": null,
   "id": "71073152",
   "metadata": {},
   "outputs": [
    {
     "name": "stderr",
     "output_type": "stream",
     "text": [
      "/tmp/ipykernel_1128741/2051366583.py:39: FutureWarning: You are using `torch.load` with `weights_only=False` (the current default value), which uses the default pickle module implicitly. It is possible to construct malicious pickle data which will execute arbitrary code during unpickling (See https://github.com/pytorch/pytorch/blob/main/SECURITY.md#untrusted-models for more details). In a future release, the default value for `weights_only` will be flipped to `True`. This limits the functions that could be executed during unpickling. Arbitrary objects will no longer be allowed to be loaded via this mode unless they are explicitly allowlisted by the user via `torch.serialization.add_safe_globals`. We recommend you start setting `weights_only=True` for any use case where you don't have full control of the loaded file. Please open an issue on GitHub for any issues related to this experimental feature.\n",
      "  checkpoint = torch.load(checkpoint_path, map_location=device)\n"
     ]
    },
    {
     "name": "stdout",
     "output_type": "stream",
     "text": [
      "✅ Predicted Class: Keratanisation Disorders (index: 2)\n",
      "🔢 Confidence Score: 0.9216\n"
     ]
    }
   ],
   "source": [
    "import torch\n",
    "from torchvision import transforms\n",
    "from PIL import Image\n",
    "import os\n",
    "import numpy as np\n",
    "from timm import create_model\n",
    "import torch.nn.functional as F\n",
    "import pandas as pd\n",
    "\n",
    "# === CONFIGURATION ===\n",
    "device = torch.device(\"cuda\" if torch.cuda.is_available() else \"cpu\")\n",
    "checkpoint_path = \"./checkpoints/Swin_MC_best_model.pth\"  # replace if different\n",
    "image_path = \"./DATASET/IMG_0618.jpg\"  # update with actual test image\n",
    "csv_path = \"./METADATA/test_split.csv\"\n",
    "\n",
    "# === LABEL MAPPING ===\n",
    "df = pd.read_csv(csv_path)\n",
    "unique_labels = sorted(df['Main_class'].dropna().unique().tolist())\n",
    "label_to_idx = {lbl: i for i, lbl in enumerate(unique_labels)}\n",
    "idx_to_label = {i: lbl for lbl, i in label_to_idx.items()}\n",
    "\n",
    "# === TRANSFORM (same as validation) ===\n",
    "mean = [0.53749797, 0.45875554, 0.40382471]\n",
    "std = [0.21629889, 0.20366619, 0.20136241]\n",
    "val_transform = transforms.Compose([\n",
    "    transforms.Resize((512, 512)),\n",
    "    transforms.ToTensor(),\n",
    "    transforms.Normalize(mean, std),\n",
    "])\n",
    "\n",
    "# === LOAD MODEL ===\n",
    "model = create_model(\n",
    "    'swin_base_patch4_window12_384',\n",
    "    pretrained=False,\n",
    "    num_classes=len(label_to_idx),\n",
    "    img_size=512\n",
    ").to(device)\n",
    "\n",
    "checkpoint = torch.load(checkpoint_path, map_location=device)\n",
    "model.load_state_dict(checkpoint)\n",
    "model.eval()\n",
    "\n",
    "# === LOAD & PROCESS IMAGE ===\n",
    "img = Image.open(image_path).convert('RGB')\n",
    "img_tensor = val_transform(img).unsqueeze(0).to(device)  # add batch dimension\n",
    "\n",
    "# === INFERENCE ===\n",
    "with torch.no_grad():\n",
    "    output = model(img_tensor)             # (1, num_classes)\n",
    "    probs = F.softmax(output, dim=1)       # softmax for probability\n",
    "    pred_idx = probs.argmax(dim=1).item()  # predicted label index\n",
    "    pred_label = idx_to_label[pred_idx]\n",
    "    confidence = probs[0, pred_idx].item()\n",
    "\n",
    "# === RESULT ===\n",
    "print(f\"✅ Predicted Class: {pred_label} (index: {pred_idx})\")\n",
    "print(f\"🔢 Confidence Score: {confidence:.4f}\")\n"
   ]
  },
  {
   "cell_type": "code",
   "execution_count": null,
   "id": "f05cd95c",
   "metadata": {},
   "outputs": [],
   "source": []
  }
 ],
 "metadata": {
  "kernelspec": {
   "display_name": "Research",
   "language": "python",
   "name": "python3"
  },
  "language_info": {
   "codemirror_mode": {
    "name": "ipython",
    "version": 3
   },
   "file_extension": ".py",
   "mimetype": "text/x-python",
   "name": "python",
   "nbconvert_exporter": "python",
   "pygments_lexer": "ipython3",
   "version": "3.12.5"
  }
 },
 "nbformat": 4,
 "nbformat_minor": 5
}
